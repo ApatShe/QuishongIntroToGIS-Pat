{
 "cells": [
  {
   "cell_type": "markdown",
   "id": "0",
   "metadata": {},
   "source": [
    "# Hyperspectral Data Visualization with HyperCoast\n",
    "\n",
    "## Introduction\n",
    "\n",
    "## Learning Objectives\n",
    "\n",
    "## Environment Setup\n",
    "\n",
    "## Finding Hyperspectral Data\n",
    "\n",
    "### Programmatic Search\n",
    "\n",
    "### Interactive Search\n",
    "\n",
    "## Downloading Hyperspectral Data\n",
    "\n",
    "## Reading Hyperspectral Data\n",
    "\n",
    "## Visualizing Hyperspectral Data\n",
    "\n",
    "## Creating Image Cubes\n",
    "\n",
    "## Interactive Slicing\n",
    "\n",
    "## Interactive Thresholding\n",
    "\n",
    "## Key Takeaways\n",
    "\n",
    "## Exercises\n",
    "\n",
    "### Exercise 1: Data Discovery and Acquisition\n",
    "\n",
    "### Exercise 2: Spectral Profile Analysis\n",
    "\n",
    "### Exercise 3: Band Combination Exploration\n",
    "\n",
    "### Exercise 4: Interactive Visualization\n",
    "\n",
    "### Exercise 5: 3D Cube Analysis"
   ]
  }
 ],
 "metadata": {
  "jupytext": {
   "cell_metadata_filter": "-all",
   "main_language": "python",
   "notebook_metadata_filter": "-all"
  }
 },
 "nbformat": 4,
 "nbformat_minor": 5
}
