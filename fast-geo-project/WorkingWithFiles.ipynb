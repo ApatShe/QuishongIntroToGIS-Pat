{
 "cells": [
  {
   "cell_type": "code",
   "execution_count": 7,
   "id": "48b241cf-3d45-4b95-97a2-6d7fe94ec342",
   "metadata": {},
   "outputs": [],
   "source": []
  },
  {
   "cell_type": "code",
   "execution_count": 23,
   "id": "e13f8db0-7c48-4531-93d1-24cbbc0a1f30",
   "metadata": {},
   "outputs": [
    {
     "name": "stdout",
     "output_type": "stream",
     "text": [
      "Sample file 'coordinates.txt' has been created successfully.\n",
      "Starting to process file: coordinates.txt\n",
      "Line 1: Processed coordinates (35.6895, 139.6917)\n",
      "Line 2: Processed coordinates (34.0522, -118.2437)\n",
      "Line 3: Processed coordinates (51.5074, -0.1278)\n",
      "Line 4: Processed coordinates (-33.8688, 151.2093)\n",
      "Line 5: Processed coordinates (48.8566, 2.3522)\n",
      "\n",
      "-- Processing summary ---\n",
      "Successfully processed: 5 coordinates\n",
      "Errors encountered: 0 lines\n",
      "Finished processing coordinates.txt\n"
     ]
    }
   ],
   "source": [
    "def parse_coordinates(line):\n",
    "    \"\"\"Helper function to parse coordinates from a line\"\"\"\n",
    "    try:\n",
    "        lat_str, lon_str = line.strip().split(',')\n",
    "        lat = float(lat_str)\n",
    "        lon = float(lon_str)\n",
    "        return lat, lon\n",
    "    except (ValueError, TypeError):\n",
    "        return None\n",
    "\n",
    "def process_geospatial_files(input_file):\n",
    "    processed_count = 0\n",
    "    error_count = 0\n",
    "\n",
    "    try:\n",
    "        print(f\"Starting to process file: {input_file}\")\n",
    "\n",
    "        with open(input_file, \"r\") as infile:\n",
    "            for line_number, line in enumerate(infile, 1):\n",
    "                # Skip empty lines\n",
    "                if not line.strip():\n",
    "                    continue\n",
    "                coordinates = parse_coordinates(line)\n",
    "                if coordinates:  # If the function return is not None\n",
    "                    lat, lon = coordinates\n",
    "                    print(f\"Line {line_number}: Processed coordinates ({lat:.4f}, {lon:.4f})\")\n",
    "                    processed_count += 1\n",
    "                else:\n",
    "                    print(f\"Line {line_number}: Skipped due to parsing error\")\n",
    "                    error_count += 1\n",
    "\n",
    "    except FileNotFoundError:\n",
    "        print(f\"Error: The file '{input_file}' was not found.\")\n",
    "        print(\"Please check if you have read permissions for this file.\")\n",
    "        return\n",
    "    except PermissionError:\n",
    "        print(f\"Error: Permission denied when trying to read '{input_file}'.\")\n",
    "        print(\"Please check if you have read permission for this file.\")\n",
    "    except Exception as e:\n",
    "        print(f\"An unexpected error occurred while processing the file: {e}\")\n",
    "        return\n",
    "    finally:\n",
    "        print(f\"\\n-- Processing summary ---\")\n",
    "        print(f\"Successfully processed: {processed_count} coordinates\")\n",
    "        print(f\"Errors encountered: {error_count} lines\")\n",
    "        print(f\"Finished processing {input_file}\")\n",
    "\n",
    "sample_data = \"\"\"35.6895,139.6917\n",
    "34.0522,-118.2437\n",
    "51.5074,-0.1278\n",
    "-33.8688,151.2093\n",
    "48.8566,2.3522\"\"\"\n",
    "output_file = \"coordinates.txt\"\n",
    "\n",
    "try:\n",
    "    with open(output_file, \"w\") as file:\n",
    "        file.write(sample_data)\n",
    "    print(f\"Sample file '{output_file}' has been created successfully.\")\n",
    "except Exception as e:\n",
    "    print(f\"An error occurred while creating the file: {e}\")\n",
    "\n",
    "process_geospatial_files(output_file)\n"
   ]
  },
  {
   "cell_type": "code",
   "execution_count": 22,
   "id": "4f5e8e86-220e-4e75-8503-67fa2f9d6f03",
   "metadata": {},
   "outputs": [
    {
     "name": "stdout",
     "output_type": "stream",
     "text": [
      "Sample file 'coordinates.txt' has been created succesfully. \n",
      "Starting to process file: coordinates.txt\n",
      "Line 1: Skipped due to parsing error\n",
      "Line 2: Skipped due to parsing error\n",
      "Line 3: Skipped due to parsing error\n",
      "Line 4: Skipped due to parsing error\n",
      "Line 5: Skipped due to parsing error\n",
      "\n",
      "-- processing summary ---\n",
      "Successfully processed: 0 coordinates\n",
      "Errors encountered 5 lines\n",
      "Finished processing coordinates.txt\n"
     ]
    }
   ],
   "source": [
    "sample_data = \"\"\"35.6895,139.6917\n",
    "34.0522,-118.2437\n",
    "51.5074,-0.1278\n",
    "-33.8688,151.2093\n",
    "48.8566,2.3522\"\"\"\n",
    "output_file = \"coordinates.txt\"\n",
    "\n",
    "try:\n",
    "    with open(output_file,\"w\") as file:\n",
    "        file.write(sample_data)\n",
    "    print(f\"Sample file '{output_file}' has been created succesfully. \")\n",
    "except Exception as e:\n",
    "    print(f\"An error ocurred while creating the file: {e}\")\n",
    "\n",
    "process_geospatial_files(output_file)"
   ]
  },
  {
   "cell_type": "code",
   "execution_count": null,
   "id": "fef9803c-34d2-4e58-a05d-8a60f018ac14",
   "metadata": {},
   "outputs": [],
   "source": []
  }
 ],
 "metadata": {
  "kernelspec": {
   "display_name": "Python 3 (ipykernel)",
   "language": "python",
   "name": "python3"
  },
  "language_info": {
   "codemirror_mode": {
    "name": "ipython",
    "version": 3
   },
   "file_extension": ".py",
   "mimetype": "text/x-python",
   "name": "python",
   "nbconvert_exporter": "python",
   "pygments_lexer": "ipython3",
   "version": "3.12.7"
  }
 },
 "nbformat": 4,
 "nbformat_minor": 5
}
