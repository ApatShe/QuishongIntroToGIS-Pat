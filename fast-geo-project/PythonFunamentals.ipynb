{
 "cells": [
  {
   "cell_type": "code",
   "execution_count": 4,
   "id": "14ef5589-aaf2-4414-8045-451088cf0abf",
   "metadata": {},
   "outputs": [
    {
     "name": "stdout",
     "output_type": "stream",
     "text": [
      "Geospatial environment ready!\n"
     ]
    }
   ],
   "source": [
    "import geopandas as gpd\n",
    "import matplotlib.pyplot as plt\n",
    "import ipyleaflet\n",
    "print(\"Geospatial environment ready!\")\n"
   ]
  },
  {
   "cell_type": "code",
   "execution_count": 7,
   "id": "185acdfd-344b-4e17-9531-6fe9f9c54f66",
   "metadata": {},
   "outputs": [],
   "source": [
    "City_list = [(40.7128, -74.0060),(34.0522, -118.2437),(41.8781, -87.6298)]\n",
    "City_list.append((25.7617,-80.1918))"
   ]
  },
  {
   "cell_type": "code",
   "execution_count": 11,
   "id": "a178b028-9b60-4ce2-918a-a5e68d9b6dc1",
   "metadata": {},
   "outputs": [
    {
     "name": "stdout",
     "output_type": "stream",
     "text": [
      "[(40.7128, -74.006), (34.0522, -118.2437), (41.8781, -87.6298), (25.7617, -80.1918)]\n"
     ]
    }
   ],
   "source": [
    "print(City_list)\n"
   ]
  },
  {
   "cell_type": "code",
   "execution_count": 17,
   "id": "2649c463-7544-4bd4-a82b-e09170a5da77",
   "metadata": {},
   "outputs": [
    {
     "name": "stdout",
     "output_type": "stream",
     "text": [
      "{'mongolia', 'usa', 'france', 'germany'}\n"
     ]
    }
   ],
   "source": [
    "country_set = {\"usa\",\"france\",\"germany\"}\n",
    "country_set.add(\"mongolia\")\n",
    "print(country_set)"
   ]
  },
  {
   "cell_type": "code",
   "execution_count": 15,
   "id": "6bb7be4b-1a8d-4550-960f-229dba73acfc",
   "metadata": {},
   "outputs": [
    {
     "name": "stdout",
     "output_type": "stream",
     "text": [
      "Species in Area A: {'pine', 'oak', 'maple', 'birch'}\n",
      "Species in Area B: {'pine', 'cedar', 'fir', 'birch'}\n"
     ]
    }
   ],
   "source": [
    "area_a_species = {\"oak\", \"pine\", \"maple\", \"birch\"}\n",
    "area_b_species = {\"pine\", \"birch\", \"cedar\", \"fir\"}\n",
    "print(\"Species in Area A:\", area_a_species)\n",
    "print(\"Species in Area B:\", area_b_species)"
   ]
  },
  {
   "cell_type": "code",
   "execution_count": 18,
   "id": "08ea073a-ab19-4138-a844-7209b302bb9e",
   "metadata": {},
   "outputs": [
    {
     "name": "stdout",
     "output_type": "stream",
     "text": [
      "Original path: data/raw_data/geographic_data/raw_data/points.csv\n",
      "Clean path: data/geographic_data/points.csv\n"
     ]
    }
   ],
   "source": [
    "# Replace multiple occurrences\n",
    "path_string = \"data/raw_data/geographic_data/raw_data/points.csv\"\n",
    "clean_path = path_string.replace(\"raw_data/\", \"\")\n",
    "print(f\"Original path: {path_string}\")\n",
    "print(f\"Clean path: {clean_path}\")"
   ]
  },
  {
   "cell_type": "code",
   "execution_count": 21,
   "id": "59ceec84-3d4f-4c04-8df9-f659d58d609c",
   "metadata": {},
   "outputs": [
    {
     "name": "stdout",
     "output_type": "stream",
     "text": [
      "Coordinates: (40.71, -74.01)\n",
      "Coordinates: (40.7128, -74.0060)\n",
      "NYC Population; 8,336,817 people, Area: 783.8km^2\n"
     ]
    }
   ],
   "source": [
    "precise_lat = 40.712776\n",
    "precise_lon = -74.005974\n",
    "# Round to different decimal places\n",
    "coords_2_places = f\"Coordinates: ({precise_lat:.2f}, {precise_lon:.2f})\"\n",
    "coords_4_places = f\"Coordinates: ({precise_lat:.4f}, {precise_lon:.4f})\"\n",
    "print(coords_2_places)\n",
    "print(coords_4_places)\n",
    "# Adding thousands separators for large numbers\n",
    "population = 8336817\n",
    "area_sqkm = 783.8\n",
    "formatted_stats = f\"NYC Population; {population:,} people, Area: {area_sqkm:.1f}km^2\"\n",
    "print(formatted_stats)"
   ]
  },
  {
   "cell_type": "code",
   "execution_count": 26,
   "id": "46aa671b-3b9f-4a82-aa27-5e84f01c4f8a",
   "metadata": {},
   "outputs": [
    {
     "name": "stdout",
     "output_type": "stream",
     "text": [
      "Generated SQL query:\n",
      "SELECT name, latitude, longditude\n",
      "FROM cities\n",
      "WHERE population > 1,000,000\n",
      "AND region = 'North America'\n"
     ]
    }
   ],
   "source": [
    "#Building SQL querie with formatting\n",
    "table_name = \"cities\"\n",
    "min_population = 1000000\n",
    "region = \"North America\"\n",
    "\n",
    "sql_query = f\"\"\"SELECT name, latitude, longditude\n",
    "FROM {table_name}\n",
    "WHERE population > {min_population:,}\n",
    "AND region = '{region}'\"\"\"\n",
    "\n",
    "\n",
    "print(\"Generated SQL query:\")\n",
    "print(sql_query)"
   ]
  },
  {
   "cell_type": "code",
   "execution_count": 31,
   "id": "3aa2d4f6-ce60-48c0-9a54-bf5f12a011be",
   "metadata": {},
   "outputs": [
    {
     "name": "stdout",
     "output_type": "stream",
     "text": [
      "20.0\n"
     ]
    }
   ],
   "source": [
    "def average(*numbers):\n",
    "    return sum(numbers) / len(numbers)\n",
    "\n",
    "print(average(10,20,30))"
   ]
  },
  {
   "cell_type": "code",
   "execution_count": 33,
   "id": "c2c7517c-8e51-4ce2-8242-c42c9cf558cc",
   "metadata": {},
   "outputs": [
    {
     "name": "stdout",
     "output_type": "stream",
     "text": [
      "Point at (35.6895,139.6917),name:Tokyo,population:37400000\n",
      "Point at (34.0522,-118.2437),name:Los Angeles,state:California\n"
     ]
    }
   ],
   "source": [
    "def describe_point(latitude,longditude,**kwargs):\n",
    "    description = f\"Point at ({latitude},{longditude})\"\n",
    "\n",
    "    for key, value in kwargs.items():\n",
    "        description += f\",{key}:{value}\"\n",
    "    return description\n",
    "\n",
    "print(describe_point(35.6895,139.6917,name=\"Tokyo\",population=37400000))\n",
    "print(describe_point(34.0522,-118.2437,name=\"Los Angeles\", state = \"California\"))"
   ]
  },
  {
   "cell_type": "code",
   "execution_count": 35,
   "id": "5c876f8c-4795-4797-bbab-4d9122d40336",
   "metadata": {},
   "outputs": [
    {
     "name": "stdout",
     "output_type": "stream",
     "text": [
      "Tokyo (35.6896, 139.6917)\n"
     ]
    }
   ],
   "source": [
    "class Point:\n",
    "    def __init__(self,latitude,longditude,name=None):\n",
    "        self.latitude = latitude\n",
    "        self.longditude = longditude\n",
    "        self.name = name\n",
    "    def __str__(self):\n",
    "        return f\"{self.name or 'Point'} ({self.latitude}, {self.longditude})\"\n",
    "\n",
    "\n",
    "point1 = Point(35.6896,139.6917,\"Tokyo\")\n",
    "print(point1)"
   ]
  },
  {
   "cell_type": "code",
   "execution_count": null,
   "id": "657a9440-6fb8-489b-9db4-01f74cba1b5c",
   "metadata": {},
   "outputs": [],
   "source": []
  }
 ],
 "metadata": {
  "kernelspec": {
   "display_name": "Python 3 (ipykernel)",
   "language": "python",
   "name": "python3"
  },
  "language_info": {
   "codemirror_mode": {
    "name": "ipython",
    "version": 3
   },
   "file_extension": ".py",
   "mimetype": "text/x-python",
   "name": "python",
   "nbconvert_exporter": "python",
   "pygments_lexer": "ipython3",
   "version": "3.12.7"
  }
 },
 "nbformat": 4,
 "nbformat_minor": 5
}
